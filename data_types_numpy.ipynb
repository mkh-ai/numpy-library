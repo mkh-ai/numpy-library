{
  "nbformat": 4,
  "nbformat_minor": 0,
  "metadata": {
    "colab": {
      "name": "data-types_numpy.ipynb",
      "provenance": [],
      "authorship_tag": "ABX9TyMflcoc8l3wgSzfS8LJhJOe",
      "include_colab_link": true
    },
    "kernelspec": {
      "name": "python3",
      "display_name": "Python 3"
    },
    "language_info": {
      "name": "python"
    }
  },
  "cells": [
    {
      "cell_type": "markdown",
      "metadata": {
        "id": "view-in-github",
        "colab_type": "text"
      },
      "source": [
        "<a href=\"https://colab.research.google.com/github/mkh-ai/numpy-library/blob/main/data_types_numpy.ipynb\" target=\"_parent\"><img src=\"https://colab.research.google.com/assets/colab-badge.svg\" alt=\"Open In Colab\"/></a>"
      ]
    },
    {
      "cell_type": "code",
      "execution_count": 4,
      "metadata": {
        "id": "fjf7Rr0g-y4F"
      },
      "outputs": [],
      "source": [
        "import numpy as np # numpy kutubxonasini chaqirib olamiz"
      ]
    },
    {
      "cell_type": "code",
      "source": [
        "arr = np.array([4,6,7,8], dtype = np.int64) # int64  malumotlar turiga ega massiv\n",
        "arr"
      ],
      "metadata": {
        "colab": {
          "base_uri": "https://localhost:8080/"
        },
        "id": "bzi6AnU-_dg7",
        "outputId": "031a79a8-e45a-4281-e824-590ea219e550"
      },
      "execution_count": 2,
      "outputs": [
        {
          "output_type": "execute_result",
          "data": {
            "text/plain": [
              "array([4, 6, 7, 8])"
            ]
          },
          "metadata": {},
          "execution_count": 2
        }
      ]
    },
    {
      "cell_type": "code",
      "source": [
        "arr1 = np.array([6.7,8.8,9.99,3,4], dtype=np.float32) # float32 malumotlar turiga ega massiv\n",
        "arr1"
      ],
      "metadata": {
        "colab": {
          "base_uri": "https://localhost:8080/"
        },
        "id": "db77zJzWAKXa",
        "outputId": "97780d6f-7178-49a6-ae9d-22244b7fbd67"
      },
      "execution_count": 3,
      "outputs": [
        {
          "output_type": "execute_result",
          "data": {
            "text/plain": [
              "array([6.7 , 8.8 , 9.99, 3.  , 4.  ], dtype=float32)"
            ]
          },
          "metadata": {},
          "execution_count": 3
        }
      ]
    },
    {
      "cell_type": "markdown",
      "source": [
        "**dtype metodi**"
      ],
      "metadata": {
        "id": "x9vAtRvDAoX2"
      }
    },
    {
      "cell_type": "code",
      "source": [
        "arr.dtype"
      ],
      "metadata": {
        "colab": {
          "base_uri": "https://localhost:8080/"
        },
        "id": "CUKicvwcAjZ_",
        "outputId": "6f906279-b04f-4793-fc88-4923cf542325"
      },
      "execution_count": 4,
      "outputs": [
        {
          "output_type": "execute_result",
          "data": {
            "text/plain": [
              "dtype('int64')"
            ]
          },
          "metadata": {},
          "execution_count": 4
        }
      ]
    },
    {
      "cell_type": "code",
      "source": [
        "arr1.dtype"
      ],
      "metadata": {
        "colab": {
          "base_uri": "https://localhost:8080/"
        },
        "id": "tTAtGBhOAvOi",
        "outputId": "3bc7a996-0936-4335-8e9c-225f81b2ac84"
      },
      "execution_count": 5,
      "outputs": [
        {
          "output_type": "execute_result",
          "data": {
            "text/plain": [
              "dtype('float32')"
            ]
          },
          "metadata": {},
          "execution_count": 5
        }
      ]
    },
    {
      "cell_type": "markdown",
      "source": [
        "# Bir turdagi malumot turini boshqasiga ogirish\n"
      ],
      "metadata": {
        "id": "b79cfWspBB4c"
      }
    },
    {
      "cell_type": "markdown",
      "source": [
        "astype metodi"
      ],
      "metadata": {
        "id": "r6akZUThBLdc"
      }
    },
    {
      "cell_type": "code",
      "source": [
        "arr2 = np.array([1,2,3,4,6]) # int64 turidagi massiv\n",
        "arr2.dtype"
      ],
      "metadata": {
        "colab": {
          "base_uri": "https://localhost:8080/"
        },
        "id": "cP8B2oIjAx9o",
        "outputId": "d96fe98b-4056-4bf0-9b87-306127a2807e"
      },
      "execution_count": 5,
      "outputs": [
        {
          "output_type": "execute_result",
          "data": {
            "text/plain": [
              "dtype('int64')"
            ]
          },
          "metadata": {},
          "execution_count": 5
        }
      ]
    },
    {
      "cell_type": "code",
      "source": [
        "float_arr2 = arr2.astype(np.float32)\n",
        "float_arr2.dtype"
      ],
      "metadata": {
        "colab": {
          "base_uri": "https://localhost:8080/"
        },
        "id": "uoAa0o7KBez3",
        "outputId": "f36e31b4-2cd8-4d20-a329-d6f6216eca61"
      },
      "execution_count": 6,
      "outputs": [
        {
          "output_type": "execute_result",
          "data": {
            "text/plain": [
              "dtype('float32')"
            ]
          },
          "metadata": {},
          "execution_count": 6
        }
      ]
    },
    {
      "cell_type": "code",
      "source": [
        "arr3 = np.array([3.5, 4.6, 2.7]) # float64 turidagi massiv\n",
        "arr3.dtype"
      ],
      "metadata": {
        "colab": {
          "base_uri": "https://localhost:8080/"
        },
        "id": "LN03fwkpCLWF",
        "outputId": "e20865c1-7846-42f7-de07-ffc01f52234b"
      },
      "execution_count": 8,
      "outputs": [
        {
          "output_type": "execute_result",
          "data": {
            "text/plain": [
              "dtype('float64')"
            ]
          },
          "metadata": {},
          "execution_count": 8
        }
      ]
    },
    {
      "cell_type": "code",
      "source": [
        "int_arr3 = arr3.astype(np.int16)\n",
        "int_arr3"
      ],
      "metadata": {
        "colab": {
          "base_uri": "https://localhost:8080/"
        },
        "id": "r0HWrXXcCpUP",
        "outputId": "971662cf-4978-4630-b001-cf461321adb0"
      },
      "execution_count": 9,
      "outputs": [
        {
          "output_type": "execute_result",
          "data": {
            "text/plain": [
              "array([3, 4, 2], dtype=int16)"
            ]
          },
          "metadata": {},
          "execution_count": 9
        }
      ]
    },
    {
      "cell_type": "code",
      "source": [
        ""
      ],
      "metadata": {
        "id": "lT4iN-6UDD5x"
      },
      "execution_count": null,
      "outputs": []
    }
  ]
}