{
  "cells": [
    {
      "cell_type": "markdown",
      "metadata": {
        "id": "view-in-github",
        "colab_type": "text"
      },
      "source": [
        "<a href=\"https://colab.research.google.com/github/mkh-ai/numpy-library/blob/main/Copy_of_Boolean_indexing_md.ipynb\" target=\"_parent\"><img src=\"https://colab.research.google.com/assets/colab-badge.svg\" alt=\"Open In Colab\"/></a>"
      ]
    },
    {
      "cell_type": "code",
      "execution_count": null,
      "metadata": {
        "id": "L7WbeE0dS9ad"
      },
      "outputs": [],
      "source": [
        "import numpy as np\n"
      ]
    },
    {
      "cell_type": "code",
      "execution_count": null,
      "metadata": {
        "id": "I-rdUSZaTQjw",
        "colab": {
          "base_uri": "https://localhost:8080/"
        },
        "outputId": "53c82f7c-7ac7-47fe-bb11-54d8056b3146"
      },
      "outputs": [
        {
          "output_type": "execute_result",
          "data": {
            "text/plain": [
              "array(['Asad', 'Ali', 'Vali', 'Otabek', 'Ayub'], dtype='<U6')"
            ]
          },
          "metadata": {},
          "execution_count": 7
        }
      ],
      "source": [
        "names = np.array(['Asad', 'Ali', 'Vali', 'Otabek', 'Ayub'])\n",
        "names"
      ]
    },
    {
      "cell_type": "code",
      "source": [
        "names == 'Asad'  # Asadga tegisshli barcha elementlarni chop qilish"
      ],
      "metadata": {
        "colab": {
          "base_uri": "https://localhost:8080/"
        },
        "id": "hGs1qV0bTsn-",
        "outputId": "9d76e1ee-428e-49af-dac8-a2f994f0d529"
      },
      "execution_count": null,
      "outputs": [
        {
          "output_type": "execute_result",
          "data": {
            "text/plain": [
              "array([ True, False, False, False, False])"
            ]
          },
          "metadata": {},
          "execution_count": 3
        }
      ]
    },
    {
      "cell_type": "code",
      "source": [
        "data = np.random.randn(5,5)\n",
        "data"
      ],
      "metadata": {
        "colab": {
          "base_uri": "https://localhost:8080/"
        },
        "id": "nkpXcV52TwFX",
        "outputId": "dfff90fc-7ed9-45ff-ca00-f303e5d1de10"
      },
      "execution_count": null,
      "outputs": [
        {
          "output_type": "execute_result",
          "data": {
            "text/plain": [
              "array([[ 0.07017478, -2.32594003, -1.23338076,  0.58049092,  0.48475095],\n",
              "       [ 0.28994625, -0.09235025, -1.1603932 ,  1.32272567,  0.41435842],\n",
              "       [-0.62553751, -2.3343182 ,  0.00822624,  1.7129823 , -0.71861862],\n",
              "       [-0.02112631,  1.40485348, -0.01224337,  0.58798328,  1.04907213],\n",
              "       [ 0.09065647,  1.75086347,  0.8113565 ,  0.30814313,  1.45927979]])"
            ]
          },
          "metadata": {},
          "execution_count": 9
        }
      ]
    },
    {
      "cell_type": "code",
      "source": [
        "data[names == 'Vali']"
      ],
      "metadata": {
        "colab": {
          "base_uri": "https://localhost:8080/"
        },
        "id": "YbyppWmjUG1V",
        "outputId": "b6e9e720-867f-4e98-d966-0d17c09576b5"
      },
      "execution_count": null,
      "outputs": [
        {
          "output_type": "execute_result",
          "data": {
            "text/plain": [
              "array([[ 0.98385711, -1.47998601, -2.17816794,  1.9882789 ,  0.79358146,\n",
              "        -0.37040359]])"
            ]
          },
          "metadata": {},
          "execution_count": 8
        }
      ]
    },
    {
      "cell_type": "code",
      "source": [
        "data[names == 'Ali',2:] # Aliga tegishli oxirgi uchta elementni kesib olish"
      ],
      "metadata": {
        "colab": {
          "base_uri": "https://localhost:8080/"
        },
        "id": "fi8cdH7fUORg",
        "outputId": "3d40147b-5bc5-4467-f1f9-07d54698be7e"
      },
      "execution_count": null,
      "outputs": [
        {
          "output_type": "execute_result",
          "data": {
            "text/plain": [
              "array([[-0.02016945,  1.56570464, -0.57067705]])"
            ]
          },
          "metadata": {},
          "execution_count": 13
        }
      ]
    },
    {
      "cell_type": "code",
      "source": [
        "#data[names != 'Vali'] # Validan boshqa barcha elementlarni kesib olish\n",
        "data[~(names == 'Vali')]"
      ],
      "metadata": {
        "colab": {
          "base_uri": "https://localhost:8080/"
        },
        "id": "SR0aj9tfUY2y",
        "outputId": "3a564fad-9a86-44cf-fe5f-eecde976864b"
      },
      "execution_count": null,
      "outputs": [
        {
          "output_type": "execute_result",
          "data": {
            "text/plain": [
              "array([[ 0.9650415 , -0.31649118,  0.9063698 ,  0.07077208,  0.8346766 ],\n",
              "       [ 0.11919231, -1.14011356, -0.02016945,  1.56570464, -0.57067705],\n",
              "       [ 0.09964738, -0.10651977,  0.08406252, -0.07810588,  0.38119861],\n",
              "       [-0.92226115, -1.21632039,  0.83849599,  2.50261194,  0.25337777]])"
            ]
          },
          "metadata": {},
          "execution_count": 19
        }
      ]
    },
    {
      "cell_type": "code",
      "source": [
        "print(names)\n",
        "print(data)"
      ],
      "metadata": {
        "colab": {
          "base_uri": "https://localhost:8080/"
        },
        "id": "uLxwiRAZchYU",
        "outputId": "e28f7aff-9b8a-495e-ee5b-2aeb8b879c8c"
      },
      "execution_count": null,
      "outputs": [
        {
          "output_type": "stream",
          "name": "stdout",
          "text": [
            "['Asad' 'Ali' 'Vali' 'Otabek' 'Ayub']\n",
            "[[ 0.07017478 -2.32594003 -1.23338076  0.58049092  0.48475095]\n",
            " [ 0.28994625 -0.09235025 -1.1603932   1.32272567  0.41435842]\n",
            " [-0.62553751 -2.3343182   0.00822624  1.7129823  -0.71861862]\n",
            " [-0.02112631  1.40485348 -0.01224337  0.58798328  1.04907213]\n",
            " [ 0.09065647  1.75086347  0.8113565   0.30814313  1.45927979]]\n"
          ]
        }
      ]
    },
    {
      "cell_type": "code",
      "source": [
        "mask = (names == 'Ayub') | (names == 'Ali') # Ayub va Aliga tegishli malumotlarni kesib olish\n",
        "mask"
      ],
      "metadata": {
        "colab": {
          "base_uri": "https://localhost:8080/"
        },
        "id": "qrGGA4UnWUpt",
        "outputId": "d6422e16-b4c2-4e0e-b76c-85175e28af9f"
      },
      "execution_count": null,
      "outputs": [
        {
          "output_type": "execute_result",
          "data": {
            "text/plain": [
              "array([False,  True, False, False,  True])"
            ]
          },
          "metadata": {},
          "execution_count": 11
        }
      ]
    },
    {
      "cell_type": "markdown",
      "source": [
        "**Ayub va Aliga tegishli malumotlarni kesib olish**"
      ],
      "metadata": {
        "id": "OG3TmQ5JF2iR"
      }
    },
    {
      "cell_type": "code",
      "source": [
        "data[mask] # Ayub va Aliga tegishli malumotlarni kesib olish"
      ],
      "metadata": {
        "colab": {
          "base_uri": "https://localhost:8080/"
        },
        "id": "HN-8nvLncPzv",
        "outputId": "a8fcfba1-6ef9-4941-f25f-7a3025e48319"
      },
      "execution_count": null,
      "outputs": [
        {
          "output_type": "execute_result",
          "data": {
            "text/plain": [
              "array([[ 0.28994625, -0.09235025, -1.1603932 ,  1.32272567,  0.41435842],\n",
              "       [ 0.09065647,  1.75086347,  0.8113565 ,  0.30814313,  1.45927979]])"
            ]
          },
          "metadata": {},
          "execution_count": 12
        }
      ]
    },
    {
      "cell_type": "code",
      "source": [
        "data[data<0] = 0 # 0 dan kichik malumotlarni 0 ga tenglash\n",
        "data"
      ],
      "metadata": {
        "colab": {
          "base_uri": "https://localhost:8080/"
        },
        "id": "dxMWYyCccTFS",
        "outputId": "3def47c5-c30e-4857-c79f-682a7f8a7084"
      },
      "execution_count": null,
      "outputs": [
        {
          "output_type": "execute_result",
          "data": {
            "text/plain": [
              "array([[0.07017478, 0.        , 0.        , 0.58049092, 0.48475095],\n",
              "       [0.28994625, 0.        , 0.        , 1.32272567, 0.41435842],\n",
              "       [0.        , 0.        , 0.00822624, 1.7129823 , 0.        ],\n",
              "       [0.        , 1.40485348, 0.        , 0.58798328, 1.04907213],\n",
              "       [0.09065647, 1.75086347, 0.8113565 , 0.30814313, 1.45927979]])"
            ]
          },
          "metadata": {},
          "execution_count": 14
        }
      ]
    },
    {
      "cell_type": "code",
      "source": [
        ""
      ],
      "metadata": {
        "id": "n8BFb9NfdGkF"
      },
      "execution_count": null,
      "outputs": []
    }
  ],
  "metadata": {
    "accelerator": "GPU",
    "colab": {
      "name": "Copy of Boolean-indexing-md.ipynb",
      "provenance": [],
      "authorship_tag": "ABX9TyORThHW66dC+aLmZgRb5aIo",
      "include_colab_link": true
    },
    "gpuClass": "standard",
    "kernelspec": {
      "display_name": "Python 3",
      "name": "python3"
    },
    "language_info": {
      "name": "python"
    }
  },
  "nbformat": 4,
  "nbformat_minor": 0
}