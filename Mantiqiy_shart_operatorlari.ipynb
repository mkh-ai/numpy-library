{
  "nbformat": 4,
  "nbformat_minor": 0,
  "metadata": {
    "colab": {
      "name": "Mantiqiy-shart-operatorlari.ipynb",
      "provenance": [],
      "authorship_tag": "ABX9TyMlwIme38l2ZUNcEtfjYo3X",
      "include_colab_link": true
    },
    "kernelspec": {
      "name": "python3",
      "display_name": "Python 3"
    },
    "language_info": {
      "name": "python"
    }
  },
  "cells": [
    {
      "cell_type": "markdown",
      "metadata": {
        "id": "view-in-github",
        "colab_type": "text"
      },
      "source": [
        "<a href=\"https://colab.research.google.com/github/mkh-ai/numpy-library/blob/main/Mantiqiy_shart_operatorlari.ipynb\" target=\"_parent\"><img src=\"https://colab.research.google.com/assets/colab-badge.svg\" alt=\"Open In Colab\"/></a>"
      ]
    },
    {
      "cell_type": "code",
      "execution_count": 1,
      "metadata": {
        "id": "Rb2lj2ytaWL1"
      },
      "outputs": [],
      "source": [
        "#24.06.2022\n",
        "import numpy as np"
      ]
    },
    {
      "cell_type": "markdown",
      "source": [
        "# Shart operatori sifatida where dan foydalanish"
      ],
      "metadata": {
        "id": "CqjKUBdqawAO"
      }
    },
    {
      "cell_type": "code",
      "source": [
        "xarr = np.arange(1.1,1.6,0.1)\n",
        "yarr = np.arange(2.1,2.6,0.1)\n"
      ],
      "metadata": {
        "id": "okvsWKM5avLG"
      },
      "execution_count": 9,
      "outputs": []
    },
    {
      "cell_type": "code",
      "source": [
        "cond = np.array([True, False, True, False, True])"
      ],
      "metadata": {
        "id": "pzV56GBSakVO"
      },
      "execution_count": 12,
      "outputs": []
    },
    {
      "cell_type": "code",
      "source": [
        "result = np.where(cond,xarr,yarr)\n",
        "result"
      ],
      "metadata": {
        "colab": {
          "base_uri": "https://localhost:8080/"
        },
        "id": "SdcvRXphb3MX",
        "outputId": "cabe3cdc-ba67-489f-9fc6-01d60e8dd73b"
      },
      "execution_count": 13,
      "outputs": [
        {
          "output_type": "execute_result",
          "data": {
            "text/plain": [
              "array([1.1, 2.2, 1.3, 2.4, 1.5])"
            ]
          },
          "metadata": {},
          "execution_count": 13
        }
      ]
    },
    {
      "cell_type": "code",
      "source": [
        "arr = np.random.randn(5,5)\n",
        "arr"
      ],
      "metadata": {
        "colab": {
          "base_uri": "https://localhost:8080/"
        },
        "id": "IOFAipR0cKFe",
        "outputId": "80bd04f0-df84-4fa2-e685-0f308a3860da"
      },
      "execution_count": 15,
      "outputs": [
        {
          "output_type": "execute_result",
          "data": {
            "text/plain": [
              "array([[-1.0653714 ,  1.76063089,  0.13012897, -0.76835113,  0.07440891],\n",
              "       [ 0.33899686,  0.59255037,  0.42997789, -0.99607905, -0.68615986],\n",
              "       [-0.17257732,  0.98736937, -0.14058188,  1.46821637, -0.31837791],\n",
              "       [ 0.07398138,  0.62010885,  0.26542044, -0.98357043,  1.77845334],\n",
              "       [ 1.18358738, -0.81582796,  1.33861247, -0.18269021, -2.17187917]])"
            ]
          },
          "metadata": {},
          "execution_count": 15
        }
      ]
    },
    {
      "cell_type": "code",
      "source": [
        "results = np.where(arr <0 ,-2 , 2 , )  # massivning musbat elementlarini 2 ga, manfiy elementlarini -2 ga almashtirish\n",
        "results"
      ],
      "metadata": {
        "colab": {
          "base_uri": "https://localhost:8080/"
        },
        "id": "QGe6Yq0rdJE6",
        "outputId": "b795d0e9-7ff2-4cdf-b583-c65846db6395"
      },
      "execution_count": 17,
      "outputs": [
        {
          "output_type": "execute_result",
          "data": {
            "text/plain": [
              "array([[-2,  2,  2, -2,  2],\n",
              "       [ 2,  2,  2, -2, -2],\n",
              "       [-2,  2, -2,  2, -2],\n",
              "       [ 2,  2,  2, -2,  2],\n",
              "       [ 2, -2,  2, -2, -2]])"
            ]
          },
          "metadata": {},
          "execution_count": 17
        }
      ]
    },
    {
      "cell_type": "code",
      "source": [
        ""
      ],
      "metadata": {
        "id": "2gJuKr4LdsWC"
      },
      "execution_count": null,
      "outputs": []
    }
  ]
}