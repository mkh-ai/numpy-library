{
  "nbformat": 4,
  "nbformat_minor": 0,
  "metadata": {
    "colab": {
      "name": "Malumotlar_tahlili.ipynb",
      "provenance": [],
      "authorship_tag": "ABX9TyPEgVRllfIlZdi5CUIYEpSk",
      "include_colab_link": true
    },
    "kernelspec": {
      "name": "python3",
      "display_name": "Python 3"
    },
    "language_info": {
      "name": "python"
    },
    "accelerator": "GPU",
    "gpuClass": "standard"
  },
  "cells": [
    {
      "cell_type": "markdown",
      "metadata": {
        "id": "view-in-github",
        "colab_type": "text"
      },
      "source": [
        "<a href=\"https://colab.research.google.com/github/mkh-ai/numpy-library/blob/main/Malumotlar_tahlili.ipynb\" target=\"_parent\"><img src=\"https://colab.research.google.com/assets/colab-badge.svg\" alt=\"Open In Colab\"/></a>"
      ]
    },
    {
      "cell_type": "code",
      "execution_count": 1,
      "metadata": {
        "id": "NYy2rt0Aq3LR"
      },
      "outputs": [],
      "source": [
        "# 24.06.2022\n",
        "# Malumotlar tahlili\n",
        "\n",
        "import numpy as np"
      ]
    },
    {
      "cell_type": "code",
      "source": [
        "arr = np.random.randn(4,5)\n",
        "arr"
      ],
      "metadata": {
        "colab": {
          "base_uri": "https://localhost:8080/"
        },
        "id": "CIXWy-OZrPY8",
        "outputId": "4830de0f-c0b5-4d88-b17c-c02ce06303ac"
      },
      "execution_count": 2,
      "outputs": [
        {
          "output_type": "execute_result",
          "data": {
            "text/plain": [
              "array([[ 0.41439959,  1.15678146, -1.51670054, -1.20954032,  1.23359503],\n",
              "       [-0.4904666 ,  0.26789774, -0.1896194 , -1.01038729,  0.55012298],\n",
              "       [ 1.64781573, -1.14137024,  0.46579142, -0.69968172, -0.42368045],\n",
              "       [ 0.30227709,  0.09440451,  0.43258219,  0.10541161,  0.08770142]])"
            ]
          },
          "metadata": {},
          "execution_count": 2
        }
      ]
    },
    {
      "cell_type": "markdown",
      "source": [
        "**SUM() metodi**"
      ],
      "metadata": {
        "id": "E22eda4hrjDk"
      }
    },
    {
      "cell_type": "code",
      "source": [
        "arr.sum() #arrayning barcha elementlarini yigindisini hisoblab beradi\n",
        "# np.sum(arr)"
      ],
      "metadata": {
        "colab": {
          "base_uri": "https://localhost:8080/"
        },
        "id": "mu6eIuNjrhj7",
        "outputId": "6929a162-6614-4ee9-9d27-f5c6ff34de17"
      },
      "execution_count": 3,
      "outputs": [
        {
          "output_type": "execute_result",
          "data": {
            "text/plain": [
              "0.07733420572008014"
            ]
          },
          "metadata": {},
          "execution_count": 3
        }
      ]
    },
    {
      "cell_type": "code",
      "source": [
        "arr.sum(axis=1) # qator yigindisi"
      ],
      "metadata": {
        "colab": {
          "base_uri": "https://localhost:8080/"
        },
        "id": "PMzFjArWtE26",
        "outputId": "89ceb46a-0074-477c-af0b-eb1d37638a0a"
      },
      "execution_count": 4,
      "outputs": [
        {
          "output_type": "execute_result",
          "data": {
            "text/plain": [
              "array([ 0.07853522, -0.87245257, -0.15112527,  1.02237682])"
            ]
          },
          "metadata": {},
          "execution_count": 4
        }
      ]
    },
    {
      "cell_type": "code",
      "source": [
        "arr.sum(axis=0) # ustunlar yigindisi"
      ],
      "metadata": {
        "colab": {
          "base_uri": "https://localhost:8080/"
        },
        "id": "SpGJEttytsMw",
        "outputId": "26a29982-6700-4fc5-aa7f-ee3d896b72ba"
      },
      "execution_count": 5,
      "outputs": [
        {
          "output_type": "execute_result",
          "data": {
            "text/plain": [
              "array([ 1.87402582,  0.37771346, -0.80794633, -2.81419772,  1.44773898])"
            ]
          },
          "metadata": {},
          "execution_count": 5
        }
      ]
    },
    {
      "cell_type": "markdown",
      "source": [
        "**mean() metodi**"
      ],
      "metadata": {
        "id": "Go5Ff7P6t9nF"
      }
    },
    {
      "cell_type": "code",
      "source": [
        "data = np.arange(8)\n",
        "data"
      ],
      "metadata": {
        "colab": {
          "base_uri": "https://localhost:8080/"
        },
        "id": "WZ5UQbzHt0mb",
        "outputId": "ac6ae351-bd72-454f-8f05-0dbc1a265eb3"
      },
      "execution_count": 6,
      "outputs": [
        {
          "output_type": "execute_result",
          "data": {
            "text/plain": [
              "array([0, 1, 2, 3, 4, 5, 6, 7])"
            ]
          },
          "metadata": {},
          "execution_count": 6
        }
      ]
    },
    {
      "cell_type": "code",
      "source": [
        "mean = np.sum(data)/len(data) # arrayning orta arifmetigini topish\n",
        "mean"
      ],
      "metadata": {
        "colab": {
          "base_uri": "https://localhost:8080/"
        },
        "id": "uIdWMbbBuIZq",
        "outputId": "71b9eb80-118b-4465-c339-e4125c1e0b07"
      },
      "execution_count": 9,
      "outputs": [
        {
          "output_type": "execute_result",
          "data": {
            "text/plain": [
              "3.5"
            ]
          },
          "metadata": {},
          "execution_count": 9
        }
      ]
    },
    {
      "cell_type": "code",
      "source": [
        "#data.mean()\n",
        "np.mean(data)"
      ],
      "metadata": {
        "colab": {
          "base_uri": "https://localhost:8080/"
        },
        "id": "zZCKYzwYuQUY",
        "outputId": "135835af-08bf-43b9-dcc9-8c53a4f451fb"
      },
      "execution_count": 11,
      "outputs": [
        {
          "output_type": "execute_result",
          "data": {
            "text/plain": [
              "3.5"
            ]
          },
          "metadata": {},
          "execution_count": 11
        }
      ]
    },
    {
      "cell_type": "code",
      "source": [
        "np.mean(arr, axis=0) # arrayning ustunlar yigindisini topish"
      ],
      "metadata": {
        "colab": {
          "base_uri": "https://localhost:8080/"
        },
        "id": "ekubMGrOuehB",
        "outputId": "37f6d69a-3fcc-46c0-afc6-77bffcdd3a3a"
      },
      "execution_count": 12,
      "outputs": [
        {
          "output_type": "execute_result",
          "data": {
            "text/plain": [
              "array([ 0.46850645,  0.09442837, -0.20198658, -0.70354943,  0.36193474])"
            ]
          },
          "metadata": {},
          "execution_count": 12
        }
      ]
    },
    {
      "cell_type": "markdown",
      "source": [
        "**CUMSUM() metodi**"
      ],
      "metadata": {
        "id": "4YZ0X-CtvDMD"
      }
    },
    {
      "cell_type": "code",
      "source": [
        "data"
      ],
      "metadata": {
        "colab": {
          "base_uri": "https://localhost:8080/"
        },
        "id": "vFjBEeiau_hj",
        "outputId": "008cac8f-5cdf-44cb-c50e-c46cab5d19a3"
      },
      "execution_count": 13,
      "outputs": [
        {
          "output_type": "execute_result",
          "data": {
            "text/plain": [
              "array([0, 1, 2, 3, 4, 5, 6, 7])"
            ]
          },
          "metadata": {},
          "execution_count": 13
        }
      ]
    },
    {
      "cell_type": "code",
      "source": [
        "data.cumsum()"
      ],
      "metadata": {
        "colab": {
          "base_uri": "https://localhost:8080/"
        },
        "id": "hCn6thUmvH5G",
        "outputId": "592c083d-d8aa-4818-d304-f922f67e62d2"
      },
      "execution_count": 14,
      "outputs": [
        {
          "output_type": "execute_result",
          "data": {
            "text/plain": [
              "array([ 0,  1,  3,  6, 10, 15, 21, 28])"
            ]
          },
          "metadata": {},
          "execution_count": 14
        }
      ]
    },
    {
      "cell_type": "code",
      "source": [
        ""
      ],
      "metadata": {
        "id": "AUv-CNGjvJ29"
      },
      "execution_count": null,
      "outputs": []
    }
  ]
}