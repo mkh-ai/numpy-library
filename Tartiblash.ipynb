{
  "nbformat": 4,
  "nbformat_minor": 0,
  "metadata": {
    "colab": {
      "name": "Tartiblash.ipynb",
      "provenance": [],
      "authorship_tag": "ABX9TyOUxWoNC0Mwxs7+S1zCoqFX",
      "include_colab_link": true
    },
    "kernelspec": {
      "name": "python3",
      "display_name": "Python 3"
    },
    "language_info": {
      "name": "python"
    },
    "accelerator": "GPU",
    "gpuClass": "standard"
  },
  "cells": [
    {
      "cell_type": "markdown",
      "metadata": {
        "id": "view-in-github",
        "colab_type": "text"
      },
      "source": [
        "<a href=\"https://colab.research.google.com/github/mkh-ai/numpy-library/blob/main/Tartiblash.ipynb\" target=\"_parent\"><img src=\"https://colab.research.google.com/assets/colab-badge.svg\" alt=\"Open In Colab\"/></a>"
      ]
    },
    {
      "cell_type": "code",
      "execution_count": 2,
      "metadata": {
        "id": "mdXm1e9JxA-1"
      },
      "outputs": [],
      "source": [
        "# 27.06.2022\n",
        "# Sorting\n",
        "import numpy as np"
      ]
    },
    {
      "cell_type": "markdown",
      "source": [
        "#SORT funksiyasi "
      ],
      "metadata": {
        "id": "kz-_DXITWbBd"
      }
    },
    {
      "cell_type": "code",
      "source": [
        "arr =  np.random.randn(5)\n",
        "arr"
      ],
      "metadata": {
        "colab": {
          "base_uri": "https://localhost:8080/"
        },
        "id": "2U5R1kWFVk3W",
        "outputId": "02a5fde6-e6f5-4bef-abe1-041264b67d2c"
      },
      "execution_count": 2,
      "outputs": [
        {
          "output_type": "execute_result",
          "data": {
            "text/plain": [
              "array([-0.04666387, -0.42424009,  0.23439164, -0.58660401, -0.50809649])"
            ]
          },
          "metadata": {},
          "execution_count": 2
        }
      ]
    },
    {
      "cell_type": "code",
      "source": [
        "sorted_arr = np.sort(arr) # arrayni tartiblash\n",
        "sorted_arr"
      ],
      "metadata": {
        "colab": {
          "base_uri": "https://localhost:8080/"
        },
        "id": "qTFXidGIWoQ9",
        "outputId": "0786a1f0-b2e4-4ffb-9d0d-1828643585bb"
      },
      "execution_count": 3,
      "outputs": [
        {
          "output_type": "execute_result",
          "data": {
            "text/plain": [
              "array([-0.58660401, -0.50809649, -0.42424009, -0.04666387,  0.23439164])"
            ]
          },
          "metadata": {},
          "execution_count": 3
        }
      ]
    },
    {
      "cell_type": "code",
      "source": [
        "arr.sort() # arrayni tartiblash 2-usuli\n",
        "arr"
      ],
      "metadata": {
        "colab": {
          "base_uri": "https://localhost:8080/"
        },
        "id": "3yGX1s-oWvZr",
        "outputId": "26dbdf16-d181-4b2f-c294-024a98720dd7"
      },
      "execution_count": 5,
      "outputs": [
        {
          "output_type": "execute_result",
          "data": {
            "text/plain": [
              "array([-0.58660401, -0.50809649, -0.42424009, -0.04666387,  0.23439164])"
            ]
          },
          "metadata": {},
          "execution_count": 5
        }
      ]
    },
    {
      "cell_type": "markdown",
      "source": [
        "**Teskari tartiblash**"
      ],
      "metadata": {
        "id": "mo7Fp3qQXBf8"
      }
    },
    {
      "cell_type": "code",
      "source": [
        "rev_arr = -np.sort(-arr)\n",
        "rev_arr"
      ],
      "metadata": {
        "colab": {
          "base_uri": "https://localhost:8080/"
        },
        "id": "-XU_av5DW6B3",
        "outputId": "2dd81ef9-6cf7-4735-feb6-707ae0c80ec7"
      },
      "execution_count": 6,
      "outputs": [
        {
          "output_type": "execute_result",
          "data": {
            "text/plain": [
              "array([ 0.23439164, -0.04666387, -0.42424009, -0.50809649, -0.58660401])"
            ]
          },
          "metadata": {},
          "execution_count": 6
        }
      ]
    },
    {
      "cell_type": "code",
      "source": [
        "# 2d massiv\n",
        "arr2d = np.random.randn(2,4)\n",
        "arr2d"
      ],
      "metadata": {
        "colab": {
          "base_uri": "https://localhost:8080/"
        },
        "id": "RkNe0gDWXkxw",
        "outputId": "22f2bcf7-da4c-4239-be6e-3736a0a7bab3"
      },
      "execution_count": 7,
      "outputs": [
        {
          "output_type": "execute_result",
          "data": {
            "text/plain": [
              "array([[-1.23974209,  0.56331622, -0.14369105, -1.31346925],\n",
              "       [ 1.81176366,  0.90659967, -0.54304064, -0.37408878]])"
            ]
          },
          "metadata": {},
          "execution_count": 7
        }
      ]
    },
    {
      "cell_type": "code",
      "source": [
        "# axis = 0 -->> Qator\n",
        "row_sort = np.sort(arr2d, axis = 0)\n",
        "row_sort"
      ],
      "metadata": {
        "colab": {
          "base_uri": "https://localhost:8080/"
        },
        "id": "NYuKNMZecehv",
        "outputId": "a236cfbf-c8f5-425a-ffe1-6cd5b197349d"
      },
      "execution_count": 8,
      "outputs": [
        {
          "output_type": "execute_result",
          "data": {
            "text/plain": [
              "array([[-1.23974209,  0.56331622, -0.54304064, -1.31346925],\n",
              "       [ 1.81176366,  0.90659967, -0.14369105, -0.37408878]])"
            ]
          },
          "metadata": {},
          "execution_count": 8
        }
      ]
    },
    {
      "cell_type": "code",
      "source": [
        "# axis = 1 -->> Ustun\n",
        "\n",
        "column_sort = np.sort(arr2d , axis =1)\n",
        "column_sort"
      ],
      "metadata": {
        "colab": {
          "base_uri": "https://localhost:8080/"
        },
        "id": "4Oz6ZQtBdAJy",
        "outputId": "91d13661-de1d-420e-8acd-bbfd2997c33a"
      },
      "execution_count": 10,
      "outputs": [
        {
          "output_type": "execute_result",
          "data": {
            "text/plain": [
              "array([[-1.31346925, -1.23974209, -0.14369105,  0.56331622],\n",
              "       [-0.54304064, -0.37408878,  0.90659967,  1.81176366]])"
            ]
          },
          "metadata": {},
          "execution_count": 10
        }
      ]
    },
    {
      "cell_type": "code",
      "source": [
        ""
      ],
      "metadata": {
        "id": "tDsEXOT7dWiD"
      },
      "execution_count": null,
      "outputs": []
    }
  ]
}