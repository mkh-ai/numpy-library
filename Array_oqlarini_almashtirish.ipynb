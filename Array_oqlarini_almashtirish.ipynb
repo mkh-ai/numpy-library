{
  "nbformat": 4,
  "nbformat_minor": 0,
  "metadata": {
    "colab": {
      "name": "Array-oqlarini-almashtirish.ipynb",
      "provenance": [],
      "authorship_tag": "ABX9TyOfQgt4wxy1WUB7njuF3hyt",
      "include_colab_link": true
    },
    "kernelspec": {
      "name": "python3",
      "display_name": "Python 3"
    },
    "language_info": {
      "name": "python"
    },
    "accelerator": "GPU",
    "gpuClass": "standard"
  },
  "cells": [
    {
      "cell_type": "markdown",
      "metadata": {
        "id": "view-in-github",
        "colab_type": "text"
      },
      "source": [
        "<a href=\"https://colab.research.google.com/github/mkh-ai/numpy-library/blob/main/Array_oqlarini_almashtirish.ipynb\" target=\"_parent\"><img src=\"https://colab.research.google.com/assets/colab-badge.svg\" alt=\"Open In Colab\"/></a>"
      ]
    },
    {
      "cell_type": "code",
      "execution_count": 1,
      "metadata": {
        "id": "LL5E1TwXEW9K"
      },
      "outputs": [],
      "source": [
        "import numpy as np"
      ]
    },
    {
      "cell_type": "markdown",
      "source": [
        "**reshape metodi**"
      ],
      "metadata": {
        "id": "7RLVm4oYJsUT"
      }
    },
    {
      "cell_type": "code",
      "source": [
        "A = np.arange(10).reshape(5,2)\n",
        "A"
      ],
      "metadata": {
        "colab": {
          "base_uri": "https://localhost:8080/"
        },
        "id": "TEEt79BuJaht",
        "outputId": "9e943554-8519-4991-b148-6f98196e27f8"
      },
      "execution_count": 8,
      "outputs": [
        {
          "output_type": "execute_result",
          "data": {
            "text/plain": [
              "array([[0, 1],\n",
              "       [2, 3],\n",
              "       [4, 5],\n",
              "       [6, 7],\n",
              "       [8, 9]])"
            ]
          },
          "metadata": {},
          "execution_count": 8
        }
      ]
    },
    {
      "cell_type": "markdown",
      "source": [
        "**Transpoese metodi**"
      ],
      "metadata": {
        "id": "SZ5f04zLJ-fb"
      }
    },
    {
      "cell_type": "code",
      "source": [
        "A.T  # A massiivni transpose korinishi"
      ],
      "metadata": {
        "colab": {
          "base_uri": "https://localhost:8080/"
        },
        "id": "HS6IQbVtJg3w",
        "outputId": "5b369d99-c68c-4816-fedf-729b1aae0a7f"
      },
      "execution_count": 9,
      "outputs": [
        {
          "output_type": "execute_result",
          "data": {
            "text/plain": [
              "array([[0, 2, 4, 6, 8],\n",
              "       [1, 3, 5, 7, 9]])"
            ]
          },
          "metadata": {},
          "execution_count": 9
        }
      ]
    },
    {
      "cell_type": "markdown",
      "source": [
        "**Swapaxes metodi**"
      ],
      "metadata": {
        "id": "uiFbaI22KnVu"
      }
    },
    {
      "cell_type": "code",
      "source": [
        "A.swapaxes(1,0)   # A massiivni transpose korinishi"
      ],
      "metadata": {
        "colab": {
          "base_uri": "https://localhost:8080/"
        },
        "id": "XpvPSmt5J0zC",
        "outputId": "b79e18bd-aed9-4ff4-bc43-f02b5ff5190f"
      },
      "execution_count": 11,
      "outputs": [
        {
          "output_type": "execute_result",
          "data": {
            "text/plain": [
              "array([[0, 2, 4, 6, 8],\n",
              "       [1, 3, 5, 7, 9]])"
            ]
          },
          "metadata": {},
          "execution_count": 11
        }
      ]
    },
    {
      "cell_type": "markdown",
      "source": [
        "**Transposeni ishlatilishiga bir missol**"
      ],
      "metadata": {
        "id": "bZqn84XmKwxJ"
      }
    },
    {
      "cell_type": "code",
      "source": [
        "A"
      ],
      "metadata": {
        "colab": {
          "base_uri": "https://localhost:8080/"
        },
        "id": "C8TOcDObKHR8",
        "outputId": "3f7af4cf-0c03-4545-e193-8f106c50c4b9"
      },
      "execution_count": 12,
      "outputs": [
        {
          "output_type": "execute_result",
          "data": {
            "text/plain": [
              "array([[0, 1],\n",
              "       [2, 3],\n",
              "       [4, 5],\n",
              "       [6, 7],\n",
              "       [8, 9]])"
            ]
          },
          "metadata": {},
          "execution_count": 12
        }
      ]
    },
    {
      "cell_type": "code",
      "source": [
        "np.dot(A,A.T)  # AA^T dan hosil bolgan masssiv"
      ],
      "metadata": {
        "colab": {
          "base_uri": "https://localhost:8080/"
        },
        "id": "H91KxwCoK4CL",
        "outputId": "9944d678-c4c8-407c-ab53-79b72fc3e48d"
      },
      "execution_count": 14,
      "outputs": [
        {
          "output_type": "execute_result",
          "data": {
            "text/plain": [
              "array([[  1,   3,   5,   7,   9],\n",
              "       [  3,  13,  23,  33,  43],\n",
              "       [  5,  23,  41,  59,  77],\n",
              "       [  7,  33,  59,  85, 111],\n",
              "       [  9,  43,  77, 111, 145]])"
            ]
          },
          "metadata": {},
          "execution_count": 14
        }
      ]
    },
    {
      "cell_type": "code",
      "source": [
        ""
      ],
      "metadata": {
        "id": "thP7kywJLPAO"
      },
      "execution_count": null,
      "outputs": []
    }
  ]
}