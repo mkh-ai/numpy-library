{
  "nbformat": 4,
  "nbformat_minor": 0,
  "metadata": {
    "colab": {
      "name": "arifmetik-amallar.ipynb",
      "provenance": [],
      "authorship_tag": "ABX9TyONORatWMc16oKXVO7uYT5A",
      "include_colab_link": true
    },
    "kernelspec": {
      "name": "python3",
      "display_name": "Python 3"
    },
    "language_info": {
      "name": "python"
    },
    "accelerator": "GPU",
    "gpuClass": "standard"
  },
  "cells": [
    {
      "cell_type": "markdown",
      "metadata": {
        "id": "view-in-github",
        "colab_type": "text"
      },
      "source": [
        "<a href=\"https://colab.research.google.com/github/mkh-ai/numpy-library/blob/main/arifmetik_amallar.ipynb\" target=\"_parent\"><img src=\"https://colab.research.google.com/assets/colab-badge.svg\" alt=\"Open In Colab\"/></a>"
      ]
    },
    {
      "cell_type": "code",
      "execution_count": 1,
      "metadata": {
        "id": "wb_iRyIdeZQW"
      },
      "outputs": [],
      "source": [
        "# 24.06.2022\n",
        "import numpy as np"
      ]
    },
    {
      "cell_type": "code",
      "source": [
        "arr1 = np.arange(6).reshape(3,2)\n",
        "arr2 = np.arange(6,12).reshape(3,2)\n"
      ],
      "metadata": {
        "id": "ADBcSfkWkj4E"
      },
      "execution_count": 4,
      "outputs": []
    },
    {
      "cell_type": "markdown",
      "source": [
        "** arr1 ning elementlarini arr2 ning mos elementlariga kopaytirish**"
      ],
      "metadata": {
        "id": "YdJezCi5lZxG"
      }
    },
    {
      "cell_type": "code",
      "source": [
        "arr1*arr2"
      ],
      "metadata": {
        "colab": {
          "base_uri": "https://localhost:8080/"
        },
        "id": "bEkapn14k2ip",
        "outputId": "c2128fc2-f912-4742-ad2f-2b44dde51144"
      },
      "execution_count": 6,
      "outputs": [
        {
          "output_type": "execute_result",
          "data": {
            "text/plain": [
              "array([[ 0,  7],\n",
              "       [16, 27],\n",
              "       [40, 55]])"
            ]
          },
          "metadata": {},
          "execution_count": 6
        }
      ]
    },
    {
      "cell_type": "markdown",
      "source": [
        "**bo'lish**"
      ],
      "metadata": {
        "id": "9ZjB7poglfAP"
      }
    },
    {
      "cell_type": "code",
      "source": [
        "arr2/arr1"
      ],
      "metadata": {
        "colab": {
          "base_uri": "https://localhost:8080/"
        },
        "id": "Aa2RMHOtlKH8",
        "outputId": "0d73c890-fc63-4914-f2f9-5d122c523387"
      },
      "execution_count": 7,
      "outputs": [
        {
          "output_type": "stream",
          "name": "stderr",
          "text": [
            "/usr/local/lib/python3.7/dist-packages/ipykernel_launcher.py:1: RuntimeWarning: divide by zero encountered in true_divide\n",
            "  \"\"\"Entry point for launching an IPython kernel.\n"
          ]
        },
        {
          "output_type": "execute_result",
          "data": {
            "text/plain": [
              "array([[inf, 7. ],\n",
              "       [4. , 3. ],\n",
              "       [2.5, 2.2]])"
            ]
          },
          "metadata": {},
          "execution_count": 7
        }
      ]
    },
    {
      "cell_type": "markdown",
      "source": [
        "****Ayirish"
      ],
      "metadata": {
        "id": "6GBYMwaQlnOX"
      }
    },
    {
      "cell_type": "code",
      "source": [
        "arr2-arr1"
      ],
      "metadata": {
        "colab": {
          "base_uri": "https://localhost:8080/"
        },
        "id": "sET-Bve8lkr-",
        "outputId": "2a0f3403-b580-4fb3-b597-47bd9ab20093"
      },
      "execution_count": 8,
      "outputs": [
        {
          "output_type": "execute_result",
          "data": {
            "text/plain": [
              "array([[6, 6],\n",
              "       [6, 6],\n",
              "       [6, 6]])"
            ]
          },
          "metadata": {},
          "execution_count": 8
        }
      ]
    },
    {
      "cell_type": "markdown",
      "source": [
        "**Kvadratga oshirish**"
      ],
      "metadata": {
        "id": "qYomGne4lzFS"
      }
    },
    {
      "cell_type": "code",
      "source": [
        "arr1**2"
      ],
      "metadata": {
        "colab": {
          "base_uri": "https://localhost:8080/"
        },
        "id": "ds_dBxxnltGl",
        "outputId": "ecc0cd8f-e746-4ef9-9fbb-268be80462cb"
      },
      "execution_count": 9,
      "outputs": [
        {
          "output_type": "execute_result",
          "data": {
            "text/plain": [
              "array([[ 0,  1],\n",
              "       [ 4,  9],\n",
              "       [16, 25]])"
            ]
          },
          "metadata": {},
          "execution_count": 9
        }
      ]
    },
    {
      "cell_type": "markdown",
      "source": [
        "**Ildizdan chiqarish**"
      ],
      "metadata": {
        "id": "SxZ651Trl5TP"
      }
    },
    {
      "cell_type": "code",
      "source": [
        "arr2**0.5"
      ],
      "metadata": {
        "colab": {
          "base_uri": "https://localhost:8080/"
        },
        "id": "CNGWN94el36t",
        "outputId": "d63e81db-c8ac-477c-ba05-2fbd38ea2a79"
      },
      "execution_count": 10,
      "outputs": [
        {
          "output_type": "execute_result",
          "data": {
            "text/plain": [
              "array([[2.44948974, 2.64575131],\n",
              "       [2.82842712, 3.        ],\n",
              "       [3.16227766, 3.31662479]])"
            ]
          },
          "metadata": {},
          "execution_count": 10
        }
      ]
    },
    {
      "cell_type": "code",
      "source": [
        ""
      ],
      "metadata": {
        "id": "Lyx6pO3MmBbL"
      },
      "execution_count": null,
      "outputs": []
    }
  ]
}