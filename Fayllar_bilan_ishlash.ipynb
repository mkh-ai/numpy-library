{
  "nbformat": 4,
  "nbformat_minor": 0,
  "metadata": {
    "colab": {
      "name": "Fayllar bilan ishlash.ipynb",
      "provenance": [],
      "authorship_tag": "ABX9TyOdVRPxL4mHghd8cszgrFn7",
      "include_colab_link": true
    },
    "kernelspec": {
      "name": "python3",
      "display_name": "Python 3"
    },
    "language_info": {
      "name": "python"
    },
    "accelerator": "GPU",
    "gpuClass": "standard"
  },
  "cells": [
    {
      "cell_type": "markdown",
      "metadata": {
        "id": "view-in-github",
        "colab_type": "text"
      },
      "source": [
        "<a href=\"https://colab.research.google.com/github/mkh-ai/numpy-library/blob/main/Fayllar_bilan_ishlash.ipynb\" target=\"_parent\"><img src=\"https://colab.research.google.com/assets/colab-badge.svg\" alt=\"Open In Colab\"/></a>"
      ]
    },
    {
      "cell_type": "code",
      "execution_count": 2,
      "metadata": {
        "id": "u6_3INZfcBKb"
      },
      "outputs": [],
      "source": [
        "# Fayllar bilan ishlash\n",
        "# 30.06.2022\n",
        "\n",
        "import numpy as np"
      ]
    },
    {
      "cell_type": "code",
      "source": [
        "arr = np.arange(10)\n",
        "arr"
      ],
      "metadata": {
        "colab": {
          "base_uri": "https://localhost:8080/"
        },
        "id": "GnO3ogmKcO3G",
        "outputId": "0532aecc-e03f-4ae3-fa00-2e3f87af3cec"
      },
      "execution_count": 3,
      "outputs": [
        {
          "output_type": "execute_result",
          "data": {
            "text/plain": [
              "array([0, 1, 2, 3, 4, 5, 6, 7, 8, 9])"
            ]
          },
          "metadata": {},
          "execution_count": 3
        }
      ]
    },
    {
      "cell_type": "code",
      "source": [
        "np.save('data', arr) \n",
        "        "
      ],
      "metadata": {
        "id": "1PU4J6AodmJK"
      },
      "execution_count": 4,
      "outputs": []
    },
    {
      "cell_type": "markdown",
      "source": [
        "load() malumotlarni chop qilish"
      ],
      "metadata": {
        "id": "Yks-vHO4hye4"
      }
    },
    {
      "cell_type": "code",
      "source": [
        "arr2 = np.load('data.npy')\n",
        "arr2"
      ],
      "metadata": {
        "colab": {
          "base_uri": "https://localhost:8080/"
        },
        "id": "SjP9WqNhgSau",
        "outputId": "00f36427-218b-45da-adaf-4771dd7d2f49"
      },
      "execution_count": 5,
      "outputs": [
        {
          "output_type": "execute_result",
          "data": {
            "text/plain": [
              "array([0, 1, 2, 3, 4, 5, 6, 7, 8, 9])"
            ]
          },
          "metadata": {},
          "execution_count": 5
        }
      ]
    },
    {
      "cell_type": "code",
      "source": [
        "arr1 = np.arange(20)\n",
        "arr1"
      ],
      "metadata": {
        "colab": {
          "base_uri": "https://localhost:8080/"
        },
        "id": "gX-RCAWbgbSJ",
        "outputId": "cbaf3d2c-7b54-41ac-c59c-0126eca4ff1b"
      },
      "execution_count": 6,
      "outputs": [
        {
          "output_type": "execute_result",
          "data": {
            "text/plain": [
              "array([ 0,  1,  2,  3,  4,  5,  6,  7,  8,  9, 10, 11, 12, 13, 14, 15, 16,\n",
              "       17, 18, 19])"
            ]
          },
          "metadata": {},
          "execution_count": 6
        }
      ]
    },
    {
      "cell_type": "markdown",
      "source": [
        "**savez metodi**"
      ],
      "metadata": {
        "id": "z0TSeWXgh6xs"
      }
    },
    {
      "cell_type": "code",
      "source": [
        "# Array ichiga bir nechta malumotlarni saqlash\n",
        "\n",
        "np.savez('arrays', a=arr , b = arr1)\n"
      ],
      "metadata": {
        "id": "aaYeho55gmMy"
      },
      "execution_count": 9,
      "outputs": []
    },
    {
      "cell_type": "code",
      "source": [
        "arrays = np.load('arrays.npz')\n",
        "arrays['a']"
      ],
      "metadata": {
        "colab": {
          "base_uri": "https://localhost:8080/"
        },
        "id": "J2f5ZSvrgyt6",
        "outputId": "9ee01581-15ab-4ffc-e079-46be2508a3a2"
      },
      "execution_count": 10,
      "outputs": [
        {
          "output_type": "execute_result",
          "data": {
            "text/plain": [
              "array([0, 1, 2, 3, 4, 5, 6, 7, 8, 9])"
            ]
          },
          "metadata": {},
          "execution_count": 10
        }
      ]
    },
    {
      "cell_type": "code",
      "source": [
        "# kalit soz orqali malumotlarni chaqirish\n",
        "arrays['b']"
      ],
      "metadata": {
        "colab": {
          "base_uri": "https://localhost:8080/"
        },
        "id": "POs1_DG7g8Lm",
        "outputId": "481cfc58-0554-47fa-a53b-88613c3da414"
      },
      "execution_count": 12,
      "outputs": [
        {
          "output_type": "execute_result",
          "data": {
            "text/plain": [
              "array([ 0,  1,  2,  3,  4,  5,  6,  7,  8,  9, 10, 11, 12, 13, 14, 15, 16,\n",
              "       17, 18, 19])"
            ]
          },
          "metadata": {},
          "execution_count": 12
        }
      ]
    },
    {
      "cell_type": "markdown",
      "source": [
        "**savez_compressed metodi**"
      ],
      "metadata": {
        "id": "DanxxVONhGrc"
      }
    },
    {
      "cell_type": "code",
      "source": [
        "# malumotlarni hajmini siqib beradi\n",
        "\n",
        "np.savez_compressed('arrauy_comp.npz', a = arr, b = arr1)\n"
      ],
      "metadata": {
        "id": "zxDsvdkUhD2v"
      },
      "execution_count": null,
      "outputs": []
    }
  ]
}