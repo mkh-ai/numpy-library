{
  "nbformat": 4,
  "nbformat_minor": 0,
  "metadata": {
    "colab": {
      "name": "Unique va boshqa amallar.ipynb",
      "provenance": [],
      "authorship_tag": "ABX9TyP7N5GYIPK8/xO8YNiJo2D2",
      "include_colab_link": true
    },
    "kernelspec": {
      "name": "python3",
      "display_name": "Python 3"
    },
    "language_info": {
      "name": "python"
    },
    "accelerator": "GPU",
    "gpuClass": "standard"
  },
  "cells": [
    {
      "cell_type": "markdown",
      "metadata": {
        "id": "view-in-github",
        "colab_type": "text"
      },
      "source": [
        "<a href=\"https://colab.research.google.com/github/mkh-ai/numpy-library/blob/main/Unique_va_boshqa_amallar.ipynb\" target=\"_parent\"><img src=\"https://colab.research.google.com/assets/colab-badge.svg\" alt=\"Open In Colab\"/></a>"
      ]
    },
    {
      "cell_type": "code",
      "execution_count": 2,
      "metadata": {
        "id": "olQiSPIneZkO"
      },
      "outputs": [],
      "source": [
        "# 27.06.2022\n",
        "# unique/in1d/setdiff1d usullari\n",
        "import numpy as np"
      ]
    },
    {
      "cell_type": "code",
      "source": [
        "names = np.array(['ali','soli','ali','vali','oybek','soli'])\n",
        "ints = np.array([3,4,5,4,6,3,5,1])"
      ],
      "metadata": {
        "id": "bddVszdchBbR"
      },
      "execution_count": 4,
      "outputs": []
    },
    {
      "cell_type": "markdown",
      "source": [
        "# Unique usuli\n"
      ],
      "metadata": {
        "id": "LldZfOyIhpjU"
      }
    },
    {
      "cell_type": "code",
      "source": [
        "# bu usulda arrayda takrorlangan elementlarni faqat bittasini chop qiladi \n",
        "np.unique(names)\n",
        "#set(names)\n",
        "#np.unique(ints)\n"
      ],
      "metadata": {
        "colab": {
          "base_uri": "https://localhost:8080/"
        },
        "id": "_rzJey8ohS0a",
        "outputId": "45a1fe01-93e6-4edb-8e3b-881c8d785747"
      },
      "execution_count": 8,
      "outputs": [
        {
          "output_type": "execute_result",
          "data": {
            "text/plain": [
              "{'ali', 'oybek', 'soli', 'vali'}"
            ]
          },
          "metadata": {},
          "execution_count": 8
        }
      ]
    },
    {
      "cell_type": "markdown",
      "source": [
        "# in1d usuli"
      ],
      "metadata": {
        "id": "dNpH9Y2uii1P"
      }
    },
    {
      "cell_type": "code",
      "source": [
        "arr1 = np.array([1,2,3,4,6])\n",
        "arr2 = np.array([3,6,5,7])\n"
      ],
      "metadata": {
        "id": "CI5E0zleh-Vf"
      },
      "execution_count": 10,
      "outputs": []
    },
    {
      "cell_type": "code",
      "source": [
        "# arr2 dagi elementlar arr1 da mavjudligini tekshiradi\n",
        "np.in1d(arr1,arr2)"
      ],
      "metadata": {
        "colab": {
          "base_uri": "https://localhost:8080/"
        },
        "id": "wf1zpZHijEfo",
        "outputId": "35f79ce3-a44a-42cb-e392-5b00954932fa"
      },
      "execution_count": 12,
      "outputs": [
        {
          "output_type": "execute_result",
          "data": {
            "text/plain": [
              "array([False, False,  True, False,  True])"
            ]
          },
          "metadata": {},
          "execution_count": 12
        }
      ]
    },
    {
      "cell_type": "markdown",
      "source": [
        "# setdiff1d usuli"
      ],
      "metadata": {
        "id": "zbGGhK-yjg2N"
      }
    },
    {
      "cell_type": "code",
      "source": [
        "n1 = np.array(['ali','soli','ali','vali','oybek','soli'])\n",
        "n2 = np.array(['gani','ali','vali','soli'])"
      ],
      "metadata": {
        "id": "wpAert1ojQxi"
      },
      "execution_count": 13,
      "outputs": []
    },
    {
      "cell_type": "code",
      "source": [
        "# n1 massivining n2 massividagi takrorlanmas qismini qaytaradi\n",
        "np.setdiff1d(n1,n2)"
      ],
      "metadata": {
        "colab": {
          "base_uri": "https://localhost:8080/"
        },
        "id": "KW0uQLSnj4tZ",
        "outputId": "e6b38b9d-c06a-44c9-b1c9-34d4e3736a3b"
      },
      "execution_count": 15,
      "outputs": [
        {
          "output_type": "execute_result",
          "data": {
            "text/plain": [
              "array(['oybek'], dtype='<U5')"
            ]
          },
          "metadata": {},
          "execution_count": 15
        }
      ]
    }
  ]
}