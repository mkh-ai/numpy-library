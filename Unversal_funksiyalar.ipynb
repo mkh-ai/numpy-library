{
  "nbformat": 4,
  "nbformat_minor": 0,
  "metadata": {
    "colab": {
      "name": "Unversal_funksiyalar.ipynb",
      "provenance": [],
      "authorship_tag": "ABX9TyMHp5cfKrEFdGAsH0RsMIIl",
      "include_colab_link": true
    },
    "kernelspec": {
      "name": "python3",
      "display_name": "Python 3"
    },
    "language_info": {
      "name": "python"
    },
    "accelerator": "GPU",
    "gpuClass": "standard"
  },
  "cells": [
    {
      "cell_type": "markdown",
      "metadata": {
        "id": "view-in-github",
        "colab_type": "text"
      },
      "source": [
        "<a href=\"https://colab.research.google.com/github/mkh-ai/numpy-library/blob/main/Unversal_funksiyalar.ipynb\" target=\"_parent\"><img src=\"https://colab.research.google.com/assets/colab-badge.svg\" alt=\"Open In Colab\"/></a>"
      ]
    },
    {
      "cell_type": "code",
      "execution_count": 1,
      "metadata": {
        "id": "_EzsoR-LOL11"
      },
      "outputs": [],
      "source": [
        "# 24.06.2022\n",
        "mport numpy as np"
      ]
    },
    {
      "cell_type": "markdown",
      "source": [
        "# Unary funksiyalar(Bitta qiymat qabul qiluvchi funksiyalar)"
      ],
      "metadata": {
        "id": "_ujvtD3JOqcr"
      }
    },
    {
      "cell_type": "code",
      "source": [
        "arr = np.arange(0,24,4)\n",
        "arr"
      ],
      "metadata": {
        "colab": {
          "base_uri": "https://localhost:8080/"
        },
        "id": "f3JezYvwOlj4",
        "outputId": "e9261280-f9c2-45a0-fcbe-9d8f64282467"
      },
      "execution_count": 2,
      "outputs": [
        {
          "output_type": "execute_result",
          "data": {
            "text/plain": [
              "array([ 0,  4,  8, 12, 16, 20])"
            ]
          },
          "metadata": {},
          "execution_count": 2
        }
      ]
    },
    {
      "cell_type": "markdown",
      "source": [
        "**sqrt massivning har bir elementini kvadrat ildizini qaytaradi**"
      ],
      "metadata": {
        "id": "k4Dh0uNQPDlM"
      }
    },
    {
      "cell_type": "code",
      "source": [
        "np.sqrt(arr)"
      ],
      "metadata": {
        "colab": {
          "base_uri": "https://localhost:8080/"
        },
        "id": "nY8TkwDHPCH3",
        "outputId": "eafe4c15-3fad-4028-ff8b-6d093b14c15c"
      },
      "execution_count": 3,
      "outputs": [
        {
          "output_type": "execute_result",
          "data": {
            "text/plain": [
              "array([0.        , 2.        , 2.82842712, 3.46410162, 4.        ,\n",
              "       4.47213595])"
            ]
          },
          "metadata": {},
          "execution_count": 3
        }
      ]
    },
    {
      "cell_type": "markdown",
      "source": [
        "**square massivning har bir elementini kvadratga oshiradi**"
      ],
      "metadata": {
        "id": "ePwVik7LPWt1"
      }
    },
    {
      "cell_type": "code",
      "source": [
        "np.square(arr)"
      ],
      "metadata": {
        "colab": {
          "base_uri": "https://localhost:8080/"
        },
        "id": "juQPTd86PU2-",
        "outputId": "d93d8e78-3c31-4780-aa37-7481cfdb5f21"
      },
      "execution_count": 4,
      "outputs": [
        {
          "output_type": "execute_result",
          "data": {
            "text/plain": [
              "array([  0,  16,  64, 144, 256, 400])"
            ]
          },
          "metadata": {},
          "execution_count": 4
        }
      ]
    },
    {
      "cell_type": "markdown",
      "source": [
        "**exp massivning har bir elemntini exponentini qaytaradi**"
      ],
      "metadata": {
        "id": "mcyRPB45Prj0"
      }
    },
    {
      "cell_type": "code",
      "source": [
        "np.exp(arr)"
      ],
      "metadata": {
        "colab": {
          "base_uri": "https://localhost:8080/"
        },
        "id": "gFc9mq-WPoVr",
        "outputId": "e832bd58-739d-4bc9-a31c-e28830657d07"
      },
      "execution_count": 5,
      "outputs": [
        {
          "output_type": "execute_result",
          "data": {
            "text/plain": [
              "array([1.00000000e+00, 5.45981500e+01, 2.98095799e+03, 1.62754791e+05,\n",
              "       8.88611052e+06, 4.85165195e+08])"
            ]
          },
          "metadata": {},
          "execution_count": 5
        }
      ]
    },
    {
      "cell_type": "markdown",
      "source": [
        "***modf funksiyasi haqiqiy sonlarni butun va qoldiq qismlarini ajratib beradi***"
      ],
      "metadata": {
        "id": "AIkX5YxsQV79"
      }
    },
    {
      "cell_type": "code",
      "source": [
        "arr1 = np.random.randn(5)\n",
        "arr1"
      ],
      "metadata": {
        "colab": {
          "base_uri": "https://localhost:8080/"
        },
        "id": "7oX6n_HEP6WX",
        "outputId": "959424d3-49d8-4d5d-c03b-1df4a10ea5d9"
      },
      "execution_count": 7,
      "outputs": [
        {
          "output_type": "execute_result",
          "data": {
            "text/plain": [
              "array([-0.78084451,  0.51121577,  1.53913181,  1.17558922,  0.61685518])"
            ]
          },
          "metadata": {},
          "execution_count": 7
        }
      ]
    },
    {
      "cell_type": "code",
      "source": [
        "qoldiq , butun= np.modf(arr1)\n",
        "print(butun)\n",
        "print(qoldiq)"
      ],
      "metadata": {
        "colab": {
          "base_uri": "https://localhost:8080/"
        },
        "id": "8UhgNI5QQo6X",
        "outputId": "f15f502f-3b04-4d7c-a24e-297d1e681e10"
      },
      "execution_count": 9,
      "outputs": [
        {
          "output_type": "stream",
          "name": "stdout",
          "text": [
            "[-0.  0.  1.  1.  0.]\n",
            "[-0.78084451  0.51121577  0.53913181  0.17558922  0.61685518]\n"
          ]
        }
      ]
    },
    {
      "cell_type": "markdown",
      "source": [
        "**sign funksiyasi qiymat manfiy bolsa -1, musbat bolsa 1 ni qaytaradi**"
      ],
      "metadata": {
        "id": "cxgbk1w-RQVZ"
      }
    },
    {
      "cell_type": "code",
      "source": [
        "np.sign(arr1)"
      ],
      "metadata": {
        "colab": {
          "base_uri": "https://localhost:8080/"
        },
        "id": "Efo2HJGQQ6MM",
        "outputId": "c241bf56-d5f8-4e67-b2f2-2d412f8fa8ec"
      },
      "execution_count": 10,
      "outputs": [
        {
          "output_type": "execute_result",
          "data": {
            "text/plain": [
              "array([-1.,  1.,  1.,  1.,  1.])"
            ]
          },
          "metadata": {},
          "execution_count": 10
        }
      ]
    },
    {
      "cell_type": "markdown",
      "source": [
        "# Binary functions (2 ta argument qabul qiluvchi funksiya)"
      ],
      "metadata": {
        "id": "yHJdxfF9Tqux"
      }
    },
    {
      "cell_type": "code",
      "source": [
        "arr2 = np.random.randn(5)\n",
        "arr3 = np.random.randn(5)"
      ],
      "metadata": {
        "id": "bDfOYBpQR014"
      },
      "execution_count": 17,
      "outputs": []
    },
    {
      "cell_type": "code",
      "source": [
        "arr2"
      ],
      "metadata": {
        "colab": {
          "base_uri": "https://localhost:8080/"
        },
        "id": "8_PUtldDVCuo",
        "outputId": "e972764f-450f-42cc-fa9b-b0bb842b7b92"
      },
      "execution_count": 18,
      "outputs": [
        {
          "output_type": "execute_result",
          "data": {
            "text/plain": [
              "array([ 1.43034213,  0.81585058,  0.87823242,  1.02684645, -0.67379003])"
            ]
          },
          "metadata": {},
          "execution_count": 18
        }
      ]
    },
    {
      "cell_type": "code",
      "source": [
        "arr3"
      ],
      "metadata": {
        "colab": {
          "base_uri": "https://localhost:8080/"
        },
        "id": "IDAQwCWbVGPy",
        "outputId": "676658de-5cd1-4834-aa10-a354c2812aea"
      },
      "execution_count": 19,
      "outputs": [
        {
          "output_type": "execute_result",
          "data": {
            "text/plain": [
              "array([-0.16409017,  0.43390759, -0.1962809 , -0.84799767, -0.66298235])"
            ]
          },
          "metadata": {},
          "execution_count": 19
        }
      ]
    },
    {
      "cell_type": "markdown",
      "source": [
        "**add metodi ikki massivning mos elementlarini qoshadi**"
      ],
      "metadata": {
        "id": "Pj5Lv2D_UdRx"
      }
    },
    {
      "cell_type": "code",
      "source": [
        "np.add(arr2,arr3)\n",
        "# arr2 + arrr3"
      ],
      "metadata": {
        "colab": {
          "base_uri": "https://localhost:8080/"
        },
        "id": "mnme7FNXUY0R",
        "outputId": "e41154e8-f417-4824-8135-6322ae5e5386"
      },
      "execution_count": 20,
      "outputs": [
        {
          "output_type": "execute_result",
          "data": {
            "text/plain": [
              "array([ 1.26625195,  1.24975817,  0.68195152,  0.17884878, -1.33677238])"
            ]
          },
          "metadata": {},
          "execution_count": 20
        }
      ]
    },
    {
      "cell_type": "markdown",
      "source": [
        "**multiply ikkita massivning mos qiymatlarini kopaytiradi**"
      ],
      "metadata": {
        "id": "rpAQZkEIVfh9"
      }
    },
    {
      "cell_type": "code",
      "source": [
        "np.multiply(arr2,arr3)"
      ],
      "metadata": {
        "colab": {
          "base_uri": "https://localhost:8080/"
        },
        "id": "x0wQhFxLUoE8",
        "outputId": "57cf7305-a813-4d4f-c33b-2f493e09b763"
      },
      "execution_count": 21,
      "outputs": [
        {
          "output_type": "execute_result",
          "data": {
            "text/plain": [
              "array([-0.23470509,  0.35400376, -0.17238025, -0.87076339,  0.4467109 ])"
            ]
          },
          "metadata": {},
          "execution_count": 21
        }
      ]
    },
    {
      "cell_type": "markdown",
      "source": [
        "**maximum : ikkita masssivni mos qiymatlarini taqqoslab kattasini oladi**"
      ],
      "metadata": {
        "id": "PkYULG8RVxJp"
      }
    },
    {
      "cell_type": "code",
      "source": [
        "np.maximum(arr2,arr3)"
      ],
      "metadata": {
        "colab": {
          "base_uri": "https://localhost:8080/"
        },
        "id": "bjR87RHxV9lK",
        "outputId": "4c18524f-4b82-421b-f65a-783135a73f26"
      },
      "execution_count": 24,
      "outputs": [
        {
          "output_type": "execute_result",
          "data": {
            "text/plain": [
              "array([ 1.43034213,  0.81585058,  0.87823242,  1.02684645, -0.66298235])"
            ]
          },
          "metadata": {},
          "execution_count": 24
        }
      ]
    },
    {
      "cell_type": "code",
      "source": [
        ""
      ],
      "metadata": {
        "id": "sL1nXt9_WGsz"
      },
      "execution_count": null,
      "outputs": []
    }
  ]
}